{
 "cells": [
  {
   "cell_type": "code",
   "execution_count": 16,
   "metadata": {},
   "outputs": [],
   "source": [
    "import lasio\n",
    "import os\n",
    "import pandas as pd"
   ]
  },
  {
   "cell_type": "code",
   "execution_count": 96,
   "metadata": {},
   "outputs": [],
   "source": [
    "las_file = lasio.read(os.path.join('/ldata/vaisbyre/Wells_new', 'A2DSub_42173314860000_25388206_StandardLAS_V1.Las'))\n",
    "csv_file = pd.read_csv(os.path.join('/homedirs/ansuchan/Desktop/LogNet_Repo/Train_CSV_Output/', 'A2DSub_42173314860000_25388206_StandardLAS_V1.csv'))\n"
   ]
  },
  {
   "cell_type": "code",
   "execution_count": 97,
   "metadata": {},
   "outputs": [
    {
     "data": {
      "text/html": [
       "<div>\n",
       "<style scoped>\n",
       "    .dataframe tbody tr th:only-of-type {\n",
       "        vertical-align: middle;\n",
       "    }\n",
       "\n",
       "    .dataframe tbody tr th {\n",
       "        vertical-align: top;\n",
       "    }\n",
       "\n",
       "    .dataframe thead th {\n",
       "        text-align: right;\n",
       "    }\n",
       "</style>\n",
       "<table border=\"1\" class=\"dataframe\">\n",
       "  <thead>\n",
       "    <tr style=\"text-align: right;\">\n",
       "      <th></th>\n",
       "      <th>Depth</th>\n",
       "      <th>Latitude</th>\n",
       "      <th>Longitude</th>\n",
       "      <th>GRCurve</th>\n",
       "      <th>SRESCurve</th>\n",
       "      <th>NeutCurve</th>\n",
       "      <th>SonicCurve</th>\n",
       "    </tr>\n",
       "  </thead>\n",
       "  <tbody>\n",
       "    <tr>\n",
       "      <th>0</th>\n",
       "      <td>3458.0</td>\n",
       "      <td>31.992598</td>\n",
       "      <td>-101.678304</td>\n",
       "      <td>13.5639</td>\n",
       "      <td>1.149876</td>\n",
       "      <td>-3.246761</td>\n",
       "      <td>0.0196</td>\n",
       "    </tr>\n",
       "    <tr>\n",
       "      <th>1</th>\n",
       "      <td>3458.5</td>\n",
       "      <td>31.992598</td>\n",
       "      <td>-101.678304</td>\n",
       "      <td>13.5183</td>\n",
       "      <td>2.018430</td>\n",
       "      <td>-2.966173</td>\n",
       "      <td>0.0219</td>\n",
       "    </tr>\n",
       "    <tr>\n",
       "      <th>2</th>\n",
       "      <td>3459.0</td>\n",
       "      <td>31.992598</td>\n",
       "      <td>-101.678304</td>\n",
       "      <td>13.8117</td>\n",
       "      <td>2.864256</td>\n",
       "      <td>-3.020025</td>\n",
       "      <td>0.0240</td>\n",
       "    </tr>\n",
       "    <tr>\n",
       "      <th>3</th>\n",
       "      <td>3459.5</td>\n",
       "      <td>31.992598</td>\n",
       "      <td>-101.678304</td>\n",
       "      <td>14.5165</td>\n",
       "      <td>3.390069</td>\n",
       "      <td>-3.103317</td>\n",
       "      <td>0.0259</td>\n",
       "    </tr>\n",
       "    <tr>\n",
       "      <th>4</th>\n",
       "      <td>3460.0</td>\n",
       "      <td>31.992598</td>\n",
       "      <td>-101.678304</td>\n",
       "      <td>15.4186</td>\n",
       "      <td>3.747806</td>\n",
       "      <td>-3.165335</td>\n",
       "      <td>0.0257</td>\n",
       "    </tr>\n",
       "  </tbody>\n",
       "</table>\n",
       "</div>"
      ],
      "text/plain": [
       "    Depth   Latitude   Longitude  GRCurve  SRESCurve  NeutCurve  SonicCurve\n",
       "0  3458.0  31.992598 -101.678304  13.5639   1.149876  -3.246761      0.0196\n",
       "1  3458.5  31.992598 -101.678304  13.5183   2.018430  -2.966173      0.0219\n",
       "2  3459.0  31.992598 -101.678304  13.8117   2.864256  -3.020025      0.0240\n",
       "3  3459.5  31.992598 -101.678304  14.5165   3.390069  -3.103317      0.0259\n",
       "4  3460.0  31.992598 -101.678304  15.4186   3.747806  -3.165335      0.0257"
      ]
     },
     "execution_count": 97,
     "metadata": {},
     "output_type": "execute_result"
    }
   ],
   "source": [
    "csv_file.head(5)"
   ]
  },
  {
   "cell_type": "code",
   "execution_count": 27,
   "metadata": {},
   "outputs": [],
   "source": [
    "os.chdir('/homedirs/ansuchan/Desktop/LogNet_Repo/lognet')\n",
    "from utilities.FileInput import FileInput"
   ]
  },
  {
   "cell_type": "code",
   "execution_count": 98,
   "metadata": {},
   "outputs": [
    {
     "name": "stderr",
     "output_type": "stream",
     "text": [
      "  0%|          | 68/16487 [00:00<00:24, 679.68it/s]"
     ]
    },
    {
     "name": "stdout",
     "output_type": "stream",
     "text": [
      "generating LAS file list\n",
      "UWI set length: 16535\n"
     ]
    },
    {
     "name": "stderr",
     "output_type": "stream",
     "text": [
      "100%|██████████| 16487/16487 [00:20<00:00, 811.22it/s]"
     ]
    },
    {
     "name": "stdout",
     "output_type": "stream",
     "text": [
      "Number of files: 16487\n"
     ]
    },
    {
     "name": "stderr",
     "output_type": "stream",
     "text": [
      "\n"
     ]
    }
   ],
   "source": [
    "feature_curves = ['GRCurve', 'SRESCurve', 'NeutCurve','DEN']\n",
    "target_curves = ['SonicCurve']\n",
    "las_file_path = '/ldata/vaisbyre/Wells_new/'\n",
    "metadata_csv = '/homedirs/ansuchan/Desktop/LogNet_Repo/QuadComboDensityPermianWells.csv'\n",
    "file_input = FileInput(las_file_path, metadata_csv)\n",
    "file_input.generateFileList(feature_curves,target_curves)"
   ]
  },
  {
   "cell_type": "code",
   "execution_count": 99,
   "metadata": {
    "scrolled": true
   },
   "outputs": [
    {
     "name": "stderr",
     "output_type": "stream",
     "text": [
      "  0%|          | 72/16487 [00:00<00:22, 715.23it/s]"
     ]
    },
    {
     "name": "stdout",
     "output_type": "stream",
     "text": [
      "generating LAS file list\n",
      "UWI set length: 16535\n"
     ]
    },
    {
     "name": "stderr",
     "output_type": "stream",
     "text": [
      "100%|██████████| 16487/16487 [00:19<00:00, 830.42it/s]"
     ]
    },
    {
     "name": "stdout",
     "output_type": "stream",
     "text": [
      "Number of files: 16487\n"
     ]
    },
    {
     "name": "stderr",
     "output_type": "stream",
     "text": [
      "\n"
     ]
    }
   ],
   "source": [
    "file_input.generateFileList(feature_curves,target_curves)"
   ]
  },
  {
   "cell_type": "code",
   "execution_count": 100,
   "metadata": {},
   "outputs": [],
   "source": [
    "file_info = file_input.getFileInfo('A2DSub_42173314860000_25388206_StandardLAS_V1.Las')\n"
   ]
  },
  {
   "cell_type": "code",
   "execution_count": 101,
   "metadata": {},
   "outputs": [
    {
     "data": {
      "text/plain": [
       "{'WGS84Latitude': 31.992598116243602,\n",
       " 'WGS84Longitude': -101.67830390543199,\n",
       " 'GRCurve': 'GRD',\n",
       " 'SRESCurve': 'SGUARD',\n",
       " 'NeutCurve': 'NPOR_LS',\n",
       " 'DEN': 'RHOB',\n",
       " 'SonicCurve': 'SPHI'}"
      ]
     },
     "execution_count": 101,
     "metadata": {},
     "output_type": "execute_result"
    }
   ],
   "source": [
    "file_info"
   ]
  },
  {
   "cell_type": "code",
   "execution_count": 102,
   "metadata": {},
   "outputs": [
    {
     "data": {
      "text/html": [
       "<div>\n",
       "<style scoped>\n",
       "    .dataframe tbody tr th:only-of-type {\n",
       "        vertical-align: middle;\n",
       "    }\n",
       "\n",
       "    .dataframe tbody tr th {\n",
       "        vertical-align: top;\n",
       "    }\n",
       "\n",
       "    .dataframe thead th {\n",
       "        text-align: right;\n",
       "    }\n",
       "</style>\n",
       "<table border=\"1\" class=\"dataframe\">\n",
       "  <thead>\n",
       "    <tr style=\"text-align: right;\">\n",
       "      <th></th>\n",
       "      <th>WGS84Latitude</th>\n",
       "      <th>WGS84Longitude</th>\n",
       "      <th>GRCurve</th>\n",
       "      <th>SRESCurve</th>\n",
       "      <th>NeutCurve</th>\n",
       "      <th>DEN</th>\n",
       "      <th>SonicCurve</th>\n",
       "    </tr>\n",
       "  </thead>\n",
       "  <tbody>\n",
       "    <tr>\n",
       "      <th>A2DSub_42227345390000_25655534_StandardLAS_V1.Las</th>\n",
       "      <td>32.097436</td>\n",
       "      <td>-101.430199</td>\n",
       "      <td>GRD</td>\n",
       "      <td>GURD</td>\n",
       "      <td>NPOR</td>\n",
       "      <td>RHOB</td>\n",
       "      <td>DT</td>\n",
       "    </tr>\n",
       "    <tr>\n",
       "      <th>A2DSub_42461331110000_25404121_StandardLAS_V1.Las</th>\n",
       "      <td>31.370261</td>\n",
       "      <td>-102.303919</td>\n",
       "      <td>GRD</td>\n",
       "      <td>RMSF</td>\n",
       "      <td>CNS</td>\n",
       "      <td>RHOB</td>\n",
       "      <td>DT</td>\n",
       "    </tr>\n",
       "    <tr>\n",
       "      <th>A2DSub_30025346680000_25843836_StandardLAS_V1.Las</th>\n",
       "      <td>32.814083</td>\n",
       "      <td>-103.563199</td>\n",
       "      <td>GRD</td>\n",
       "      <td>HLLS</td>\n",
       "      <td>TNPH</td>\n",
       "      <td>RHOZ</td>\n",
       "      <td>DT</td>\n",
       "    </tr>\n",
       "    <tr>\n",
       "      <th>A2DSub_30025346750000_25503261_StandardLAS_V1.Las</th>\n",
       "      <td>32.665621</td>\n",
       "      <td>-103.305685</td>\n",
       "      <td>GRD</td>\n",
       "      <td>HLLS</td>\n",
       "      <td>TNPH</td>\n",
       "      <td>RHOZ</td>\n",
       "      <td>DT</td>\n",
       "    </tr>\n",
       "    <tr>\n",
       "      <th>A2DSub_30025293960000_25837594_StandardLAS_V1.Las</th>\n",
       "      <td>32.542324</td>\n",
       "      <td>-103.297177</td>\n",
       "      <td>GRD</td>\n",
       "      <td>MSFL</td>\n",
       "      <td>NPHI_LS</td>\n",
       "      <td>RHOB</td>\n",
       "      <td>DT</td>\n",
       "    </tr>\n",
       "  </tbody>\n",
       "</table>\n",
       "</div>"
      ],
      "text/plain": [
       "                                                   WGS84Latitude  \\\n",
       "A2DSub_42227345390000_25655534_StandardLAS_V1.Las      32.097436   \n",
       "A2DSub_42461331110000_25404121_StandardLAS_V1.Las      31.370261   \n",
       "A2DSub_30025346680000_25843836_StandardLAS_V1.Las      32.814083   \n",
       "A2DSub_30025346750000_25503261_StandardLAS_V1.Las      32.665621   \n",
       "A2DSub_30025293960000_25837594_StandardLAS_V1.Las      32.542324   \n",
       "\n",
       "                                                   WGS84Longitude GRCurve  \\\n",
       "A2DSub_42227345390000_25655534_StandardLAS_V1.Las     -101.430199     GRD   \n",
       "A2DSub_42461331110000_25404121_StandardLAS_V1.Las     -102.303919     GRD   \n",
       "A2DSub_30025346680000_25843836_StandardLAS_V1.Las     -103.563199     GRD   \n",
       "A2DSub_30025346750000_25503261_StandardLAS_V1.Las     -103.305685     GRD   \n",
       "A2DSub_30025293960000_25837594_StandardLAS_V1.Las     -103.297177     GRD   \n",
       "\n",
       "                                                  SRESCurve NeutCurve   DEN  \\\n",
       "A2DSub_42227345390000_25655534_StandardLAS_V1.Las      GURD      NPOR  RHOB   \n",
       "A2DSub_42461331110000_25404121_StandardLAS_V1.Las      RMSF       CNS  RHOB   \n",
       "A2DSub_30025346680000_25843836_StandardLAS_V1.Las      HLLS      TNPH  RHOZ   \n",
       "A2DSub_30025346750000_25503261_StandardLAS_V1.Las      HLLS      TNPH  RHOZ   \n",
       "A2DSub_30025293960000_25837594_StandardLAS_V1.Las      MSFL   NPHI_LS  RHOB   \n",
       "\n",
       "                                                  SonicCurve  \n",
       "A2DSub_42227345390000_25655534_StandardLAS_V1.Las         DT  \n",
       "A2DSub_42461331110000_25404121_StandardLAS_V1.Las         DT  \n",
       "A2DSub_30025346680000_25843836_StandardLAS_V1.Las         DT  \n",
       "A2DSub_30025346750000_25503261_StandardLAS_V1.Las         DT  \n",
       "A2DSub_30025293960000_25837594_StandardLAS_V1.Las         DT  "
      ]
     },
     "execution_count": 102,
     "metadata": {},
     "output_type": "execute_result"
    }
   ],
   "source": [
    "file_input.selected_df.head()"
   ]
  },
  {
   "cell_type": "code",
   "execution_count": 103,
   "metadata": {},
   "outputs": [],
   "source": [
    "from preprocess.DataPrep import DataPrep\n",
    "import yaml\n",
    "model_type = 'XGB'\n",
    "prep_data = DataPrep(model_type)"
   ]
  },
  {
   "cell_type": "code",
   "execution_count": 111,
   "metadata": {},
   "outputs": [],
   "source": [
    "feature_mnem = [file_info[key] for key in feature_curves]\n",
    "target_mnem = [file_info[key] for key in target_curves]\n",
    "mnemonics = feature_mnem + target_mnem + ['DEPT']\n",
    "\n",
    "all(column_name in las_file.curvesdict.keys() for column_name in mnemonics)\n",
    "features_df = las_file.df()\n",
    "features_df.reset_index(level=0, inplace=True)"
   ]
  },
  {
   "cell_type": "code",
   "execution_count": 112,
   "metadata": {},
   "outputs": [
    {
     "data": {
      "text/html": [
       "<div>\n",
       "<style scoped>\n",
       "    .dataframe tbody tr th:only-of-type {\n",
       "        vertical-align: middle;\n",
       "    }\n",
       "\n",
       "    .dataframe tbody tr th {\n",
       "        vertical-align: top;\n",
       "    }\n",
       "\n",
       "    .dataframe thead th {\n",
       "        text-align: right;\n",
       "    }\n",
       "</style>\n",
       "<table border=\"1\" class=\"dataframe\">\n",
       "  <thead>\n",
       "    <tr style=\"text-align: right;\">\n",
       "      <th></th>\n",
       "      <th>DEPT</th>\n",
       "      <th>GRS</th>\n",
       "      <th>CALS</th>\n",
       "      <th>DT</th>\n",
       "      <th>SPHI</th>\n",
       "      <th>TENS</th>\n",
       "      <th>GRR</th>\n",
       "      <th>TENR</th>\n",
       "      <th>SPR</th>\n",
       "      <th>ILD</th>\n",
       "      <th>ILM</th>\n",
       "      <th>SGUARD</th>\n",
       "      <th>GRD</th>\n",
       "      <th>NPOR_LS</th>\n",
       "      <th>DPOR_LS</th>\n",
       "      <th>CALD</th>\n",
       "      <th>TEND</th>\n",
       "      <th>CORR</th>\n",
       "      <th>RHOB</th>\n",
       "    </tr>\n",
       "  </thead>\n",
       "  <tbody>\n",
       "    <tr>\n",
       "      <th>0</th>\n",
       "      <td>50.0</td>\n",
       "      <td>NaN</td>\n",
       "      <td>NaN</td>\n",
       "      <td>NaN</td>\n",
       "      <td>NaN</td>\n",
       "      <td>NaN</td>\n",
       "      <td>NaN</td>\n",
       "      <td>NaN</td>\n",
       "      <td>NaN</td>\n",
       "      <td>NaN</td>\n",
       "      <td>NaN</td>\n",
       "      <td>NaN</td>\n",
       "      <td>25.9119</td>\n",
       "      <td>-0.0162</td>\n",
       "      <td>NaN</td>\n",
       "      <td>NaN</td>\n",
       "      <td>NaN</td>\n",
       "      <td>NaN</td>\n",
       "      <td>NaN</td>\n",
       "    </tr>\n",
       "    <tr>\n",
       "      <th>1</th>\n",
       "      <td>50.5</td>\n",
       "      <td>NaN</td>\n",
       "      <td>NaN</td>\n",
       "      <td>NaN</td>\n",
       "      <td>NaN</td>\n",
       "      <td>NaN</td>\n",
       "      <td>NaN</td>\n",
       "      <td>NaN</td>\n",
       "      <td>NaN</td>\n",
       "      <td>NaN</td>\n",
       "      <td>NaN</td>\n",
       "      <td>NaN</td>\n",
       "      <td>25.2808</td>\n",
       "      <td>-0.0152</td>\n",
       "      <td>NaN</td>\n",
       "      <td>NaN</td>\n",
       "      <td>NaN</td>\n",
       "      <td>NaN</td>\n",
       "      <td>NaN</td>\n",
       "    </tr>\n",
       "    <tr>\n",
       "      <th>2</th>\n",
       "      <td>51.0</td>\n",
       "      <td>NaN</td>\n",
       "      <td>NaN</td>\n",
       "      <td>NaN</td>\n",
       "      <td>NaN</td>\n",
       "      <td>NaN</td>\n",
       "      <td>NaN</td>\n",
       "      <td>NaN</td>\n",
       "      <td>NaN</td>\n",
       "      <td>NaN</td>\n",
       "      <td>NaN</td>\n",
       "      <td>NaN</td>\n",
       "      <td>24.2864</td>\n",
       "      <td>-0.0145</td>\n",
       "      <td>NaN</td>\n",
       "      <td>NaN</td>\n",
       "      <td>NaN</td>\n",
       "      <td>NaN</td>\n",
       "      <td>NaN</td>\n",
       "    </tr>\n",
       "    <tr>\n",
       "      <th>3</th>\n",
       "      <td>51.5</td>\n",
       "      <td>NaN</td>\n",
       "      <td>NaN</td>\n",
       "      <td>NaN</td>\n",
       "      <td>NaN</td>\n",
       "      <td>NaN</td>\n",
       "      <td>NaN</td>\n",
       "      <td>NaN</td>\n",
       "      <td>NaN</td>\n",
       "      <td>NaN</td>\n",
       "      <td>NaN</td>\n",
       "      <td>NaN</td>\n",
       "      <td>23.8629</td>\n",
       "      <td>-0.0143</td>\n",
       "      <td>NaN</td>\n",
       "      <td>NaN</td>\n",
       "      <td>NaN</td>\n",
       "      <td>NaN</td>\n",
       "      <td>NaN</td>\n",
       "    </tr>\n",
       "    <tr>\n",
       "      <th>4</th>\n",
       "      <td>52.0</td>\n",
       "      <td>NaN</td>\n",
       "      <td>NaN</td>\n",
       "      <td>NaN</td>\n",
       "      <td>NaN</td>\n",
       "      <td>NaN</td>\n",
       "      <td>NaN</td>\n",
       "      <td>NaN</td>\n",
       "      <td>NaN</td>\n",
       "      <td>NaN</td>\n",
       "      <td>NaN</td>\n",
       "      <td>NaN</td>\n",
       "      <td>23.8971</td>\n",
       "      <td>-0.0142</td>\n",
       "      <td>NaN</td>\n",
       "      <td>NaN</td>\n",
       "      <td>NaN</td>\n",
       "      <td>NaN</td>\n",
       "      <td>NaN</td>\n",
       "    </tr>\n",
       "  </tbody>\n",
       "</table>\n",
       "</div>"
      ],
      "text/plain": [
       "   DEPT  GRS  CALS  DT  SPHI  TENS  GRR  TENR  SPR  ILD  ILM  SGUARD      GRD  \\\n",
       "0  50.0  NaN   NaN NaN   NaN   NaN  NaN   NaN  NaN  NaN  NaN     NaN  25.9119   \n",
       "1  50.5  NaN   NaN NaN   NaN   NaN  NaN   NaN  NaN  NaN  NaN     NaN  25.2808   \n",
       "2  51.0  NaN   NaN NaN   NaN   NaN  NaN   NaN  NaN  NaN  NaN     NaN  24.2864   \n",
       "3  51.5  NaN   NaN NaN   NaN   NaN  NaN   NaN  NaN  NaN  NaN     NaN  23.8629   \n",
       "4  52.0  NaN   NaN NaN   NaN   NaN  NaN   NaN  NaN  NaN  NaN     NaN  23.8971   \n",
       "\n",
       "   NPOR_LS  DPOR_LS  CALD  TEND  CORR  RHOB  \n",
       "0  -0.0162      NaN   NaN   NaN   NaN   NaN  \n",
       "1  -0.0152      NaN   NaN   NaN   NaN   NaN  \n",
       "2  -0.0145      NaN   NaN   NaN   NaN   NaN  \n",
       "3  -0.0143      NaN   NaN   NaN   NaN   NaN  \n",
       "4  -0.0142      NaN   NaN   NaN   NaN   NaN  "
      ]
     },
     "execution_count": 112,
     "metadata": {},
     "output_type": "execute_result"
    }
   ],
   "source": [
    "features_df.head(5)"
   ]
  },
  {
   "cell_type": "code",
   "execution_count": 106,
   "metadata": {},
   "outputs": [
    {
     "name": "stdout",
     "output_type": "stream",
     "text": [
      "Generating features for XGB\n"
     ]
    },
    {
     "name": "stderr",
     "output_type": "stream",
     "text": [
      "/homedirs/ansuchan/Desktop/LogNet_Repo/lognet/preprocess/DataPrep.py:34: RuntimeWarning: invalid value encountered in log\n",
      "  data_df[feature] = np.log(data_df[feature])\n"
     ]
    }
   ],
   "source": [
    "features_df = prep_data.generateFeatures(\n",
    "            las_file, file_info, feature_curves, target_curves, True)"
   ]
  },
  {
   "cell_type": "code",
   "execution_count": 113,
   "metadata": {},
   "outputs": [],
   "source": [
    "for column_name in features_df.columns:\n",
    "            if column_name not in mnemonics:\n",
    "                features_df.drop(column_name, axis=1, inplace=True)"
   ]
  },
  {
   "cell_type": "code",
   "execution_count": 114,
   "metadata": {},
   "outputs": [],
   "source": [
    "features_df.dropna(axis=0, how='any', inplace=True)"
   ]
  },
  {
   "cell_type": "code",
   "execution_count": 115,
   "metadata": {},
   "outputs": [
    {
     "data": {
      "text/html": [
       "<div>\n",
       "<style scoped>\n",
       "    .dataframe tbody tr th:only-of-type {\n",
       "        vertical-align: middle;\n",
       "    }\n",
       "\n",
       "    .dataframe tbody tr th {\n",
       "        vertical-align: top;\n",
       "    }\n",
       "\n",
       "    .dataframe thead th {\n",
       "        text-align: right;\n",
       "    }\n",
       "</style>\n",
       "<table border=\"1\" class=\"dataframe\">\n",
       "  <thead>\n",
       "    <tr style=\"text-align: right;\">\n",
       "      <th></th>\n",
       "      <th>DEPT</th>\n",
       "      <th>SPHI</th>\n",
       "      <th>SGUARD</th>\n",
       "      <th>GRD</th>\n",
       "      <th>NPOR_LS</th>\n",
       "      <th>RHOB</th>\n",
       "    </tr>\n",
       "  </thead>\n",
       "  <tbody>\n",
       "    <tr>\n",
       "      <th>6816</th>\n",
       "      <td>3458.0</td>\n",
       "      <td>0.0196</td>\n",
       "      <td>3.1578</td>\n",
       "      <td>13.5639</td>\n",
       "      <td>0.0389</td>\n",
       "      <td>2.1904</td>\n",
       "    </tr>\n",
       "    <tr>\n",
       "      <th>6817</th>\n",
       "      <td>3458.5</td>\n",
       "      <td>0.0219</td>\n",
       "      <td>7.5265</td>\n",
       "      <td>13.5183</td>\n",
       "      <td>0.0515</td>\n",
       "      <td>2.5171</td>\n",
       "    </tr>\n",
       "    <tr>\n",
       "      <th>6818</th>\n",
       "      <td>3459.0</td>\n",
       "      <td>0.0240</td>\n",
       "      <td>17.5360</td>\n",
       "      <td>13.8117</td>\n",
       "      <td>0.0488</td>\n",
       "      <td>2.8124</td>\n",
       "    </tr>\n",
       "    <tr>\n",
       "      <th>6819</th>\n",
       "      <td>3459.5</td>\n",
       "      <td>0.0259</td>\n",
       "      <td>29.6680</td>\n",
       "      <td>14.5165</td>\n",
       "      <td>0.0449</td>\n",
       "      <td>2.8091</td>\n",
       "    </tr>\n",
       "    <tr>\n",
       "      <th>6820</th>\n",
       "      <td>3460.0</td>\n",
       "      <td>0.0257</td>\n",
       "      <td>42.4279</td>\n",
       "      <td>15.4186</td>\n",
       "      <td>0.0422</td>\n",
       "      <td>2.7920</td>\n",
       "    </tr>\n",
       "  </tbody>\n",
       "</table>\n",
       "</div>"
      ],
      "text/plain": [
       "        DEPT    SPHI   SGUARD      GRD  NPOR_LS    RHOB\n",
       "6816  3458.0  0.0196   3.1578  13.5639   0.0389  2.1904\n",
       "6817  3458.5  0.0219   7.5265  13.5183   0.0515  2.5171\n",
       "6818  3459.0  0.0240  17.5360  13.8117   0.0488  2.8124\n",
       "6819  3459.5  0.0259  29.6680  14.5165   0.0449  2.8091\n",
       "6820  3460.0  0.0257  42.4279  15.4186   0.0422  2.7920"
      ]
     },
     "execution_count": 115,
     "metadata": {},
     "output_type": "execute_result"
    }
   ],
   "source": [
    "features_df.head(5)"
   ]
  },
  {
   "cell_type": "code",
   "execution_count": 116,
   "metadata": {},
   "outputs": [
    {
     "data": {
      "text/html": [
       "<div>\n",
       "<style scoped>\n",
       "    .dataframe tbody tr th:only-of-type {\n",
       "        vertical-align: middle;\n",
       "    }\n",
       "\n",
       "    .dataframe tbody tr th {\n",
       "        vertical-align: top;\n",
       "    }\n",
       "\n",
       "    .dataframe thead th {\n",
       "        text-align: right;\n",
       "    }\n",
       "</style>\n",
       "<table border=\"1\" class=\"dataframe\">\n",
       "  <thead>\n",
       "    <tr style=\"text-align: right;\">\n",
       "      <th></th>\n",
       "      <th>DEPT</th>\n",
       "      <th>SonicCurve</th>\n",
       "      <th>SRESCurve</th>\n",
       "      <th>GRCurve</th>\n",
       "      <th>NeutCurve</th>\n",
       "      <th>DEN</th>\n",
       "    </tr>\n",
       "  </thead>\n",
       "  <tbody>\n",
       "    <tr>\n",
       "      <th>6816</th>\n",
       "      <td>3458.0</td>\n",
       "      <td>0.0196</td>\n",
       "      <td>3.1578</td>\n",
       "      <td>13.5639</td>\n",
       "      <td>0.0389</td>\n",
       "      <td>2.1904</td>\n",
       "    </tr>\n",
       "    <tr>\n",
       "      <th>6817</th>\n",
       "      <td>3458.5</td>\n",
       "      <td>0.0219</td>\n",
       "      <td>7.5265</td>\n",
       "      <td>13.5183</td>\n",
       "      <td>0.0515</td>\n",
       "      <td>2.5171</td>\n",
       "    </tr>\n",
       "    <tr>\n",
       "      <th>6818</th>\n",
       "      <td>3459.0</td>\n",
       "      <td>0.0240</td>\n",
       "      <td>17.5360</td>\n",
       "      <td>13.8117</td>\n",
       "      <td>0.0488</td>\n",
       "      <td>2.8124</td>\n",
       "    </tr>\n",
       "    <tr>\n",
       "      <th>6819</th>\n",
       "      <td>3459.5</td>\n",
       "      <td>0.0259</td>\n",
       "      <td>29.6680</td>\n",
       "      <td>14.5165</td>\n",
       "      <td>0.0449</td>\n",
       "      <td>2.8091</td>\n",
       "    </tr>\n",
       "    <tr>\n",
       "      <th>6820</th>\n",
       "      <td>3460.0</td>\n",
       "      <td>0.0257</td>\n",
       "      <td>42.4279</td>\n",
       "      <td>15.4186</td>\n",
       "      <td>0.0422</td>\n",
       "      <td>2.7920</td>\n",
       "    </tr>\n",
       "  </tbody>\n",
       "</table>\n",
       "</div>"
      ],
      "text/plain": [
       "        DEPT  SonicCurve  SRESCurve  GRCurve  NeutCurve     DEN\n",
       "6816  3458.0      0.0196     3.1578  13.5639     0.0389  2.1904\n",
       "6817  3458.5      0.0219     7.5265  13.5183     0.0515  2.5171\n",
       "6818  3459.0      0.0240    17.5360  13.8117     0.0488  2.8124\n",
       "6819  3459.5      0.0259    29.6680  14.5165     0.0449  2.8091\n",
       "6820  3460.0      0.0257    42.4279  15.4186     0.0422  2.7920"
      ]
     },
     "execution_count": 116,
     "metadata": {},
     "output_type": "execute_result"
    }
   ],
   "source": [
    "inv_map = {v: k for k, v in file_info.items()}\n",
    "features_df.rename(inv_map, axis='columns', inplace=True)\n",
    "features_df.head(5)"
   ]
  },
  {
   "cell_type": "code",
   "execution_count": null,
   "metadata": {},
   "outputs": [],
   "source": []
  },
  {
   "cell_type": "code",
   "execution_count": 117,
   "metadata": {},
   "outputs": [
    {
     "name": "stderr",
     "output_type": "stream",
     "text": [
      "/homedirs/ansuchan/anaconda3/lib/python3.7/site-packages/ipykernel_launcher.py:3: RuntimeWarning: invalid value encountered in log\n",
      "  This is separate from the ipykernel package so we can avoid doing imports until\n"
     ]
    }
   ],
   "source": [
    "import numpy as np\n",
    "features_df['SRESCurve'] = np.log(features_df['SRESCurve'])\n",
    "features_df['NeutCurve'] = np.log(features_df['NeutCurve'])\n",
    "\n",
    "\n",
    "features_df['DEN'] = features_df['DEN']**3\n",
    "\n",
    "features_df = features_df.replace([np.inf, -np.inf], np.nan)\n",
    "features_df.dropna(axis=0, how='any', inplace=True)\n"
   ]
  },
  {
   "cell_type": "code",
   "execution_count": 123,
   "metadata": {},
   "outputs": [],
   "source": [
    "keep_location = False"
   ]
  },
  {
   "cell_type": "code",
   "execution_count": 126,
   "metadata": {},
   "outputs": [],
   "source": [
    "feature_list = feature_curves\n",
    "if model_type == 'TorchNN':\n",
    "    # Smoothing\n",
    "    self._smooth(features_df, feature_curves, smoothing_window)\n",
    "\n",
    "    # Shifting and renaming columns\n",
    "    feature_list = self._shift(features_df, features, n)\n",
    "\n",
    "location_columns = []\n",
    "if keep_location:\n",
    "    location_columns.extend(['Depth', 'Latitude', 'Longitude'])\n",
    "\n",
    "    features_df['Depth'] = features_df['DEPT']\n",
    "    features_df['Latitude'] = file_info['WGS84Latitude']\n",
    "    features_df['Longitude'] = file_info['WGS84Longitude']\n",
    "\n",
    "reordered_columns = location_columns + feature_list + target_curves\n",
    "\n",
    "# Drop mnemonic named columns\n",
    "for column in features_df.columns:\n",
    "    if column not in reordered_columns:\n",
    "        features_df.drop(column, axis=1, inplace=True)\n",
    "\n",
    "features_df = features_df[reordered_columns]\n",
    "\n"
   ]
  },
  {
   "cell_type": "code",
   "execution_count": 128,
   "metadata": {},
   "outputs": [],
   "source": [
    "\n",
    "assert(features_df.isnull().any().any() == False)\n",
    "assert(features_df.isna().any().any() == False)\n"
   ]
  },
  {
   "cell_type": "code",
   "execution_count": 130,
   "metadata": {},
   "outputs": [
    {
     "data": {
      "text/plain": [
       "['GRCurve', 'SRESCurve', 'NeutCurve', 'DEN', 'SonicCurve']"
      ]
     },
     "execution_count": 130,
     "metadata": {},
     "output_type": "execute_result"
    }
   ],
   "source": [
    "features_df.columns.values.tolist()"
   ]
  },
  {
   "cell_type": "code",
   "execution_count": null,
   "metadata": {},
   "outputs": [],
   "source": [
    "\n",
    "assert isinstance(features_df.columns.values.tolist(), list) == True, 'header_list is not a list'\n",
    "print(\"Writing header file: headers.txt\")\n",
    "with open(os.path.join(self.output_path, 'headers.txt'), 'w') as header_file:\n",
    "    csv_writer = csv.writer(header_file, dialect='excel')\n",
    "    csv_writer.writerow(features_df.columns.values.tolist())\n",
    "self.header_written = True"
   ]
  },
  {
   "cell_type": "code",
   "execution_count": 129,
   "metadata": {},
   "outputs": [
    {
     "ename": "NameError",
     "evalue": "name 'self' is not defined",
     "output_type": "error",
     "traceback": [
      "\u001b[0;31m---------------------------------------------------------------------------\u001b[0m",
      "\u001b[0;31mNameError\u001b[0m                                 Traceback (most recent call last)",
      "\u001b[0;32m<ipython-input-129-b7e0fb0a26c0>\u001b[0m in \u001b[0;36m<module>\u001b[0;34m()\u001b[0m\n\u001b[1;32m      2\u001b[0m \u001b[0;34m\u001b[0m\u001b[0m\n\u001b[1;32m      3\u001b[0m \u001b[0;32massert\u001b[0m \u001b[0misinstance\u001b[0m\u001b[0;34m(\u001b[0m\u001b[0mfeatures_df\u001b[0m\u001b[0;34m,\u001b[0m \u001b[0mpd\u001b[0m\u001b[0;34m.\u001b[0m\u001b[0mcore\u001b[0m\u001b[0;34m.\u001b[0m\u001b[0mframe\u001b[0m\u001b[0;34m.\u001b[0m\u001b[0mDataFrame\u001b[0m\u001b[0;34m)\u001b[0m\u001b[0;34m==\u001b[0m\u001b[0;32mTrue\u001b[0m\u001b[0;34m,\u001b[0m\u001b[0;34m\"file_data is not a dataframe\"\u001b[0m\u001b[0;34m\u001b[0m\u001b[0m\n\u001b[0;32m----> 4\u001b[0;31m \u001b[0;32mif\u001b[0m \u001b[0;32mnot\u001b[0m \u001b[0mself\u001b[0m\u001b[0;34m.\u001b[0m\u001b[0mheader_written\u001b[0m\u001b[0;34m:\u001b[0m\u001b[0;34m\u001b[0m\u001b[0m\n\u001b[0m\u001b[1;32m      5\u001b[0m     \u001b[0mself\u001b[0m\u001b[0;34m.\u001b[0m\u001b[0m_writeHeader\u001b[0m\u001b[0;34m(\u001b[0m\u001b[0mfile_data\u001b[0m\u001b[0;34m.\u001b[0m\u001b[0mcolumns\u001b[0m\u001b[0;34m.\u001b[0m\u001b[0mvalues\u001b[0m\u001b[0;34m.\u001b[0m\u001b[0mtolist\u001b[0m\u001b[0;34m(\u001b[0m\u001b[0;34m)\u001b[0m\u001b[0;34m)\u001b[0m\u001b[0;34m\u001b[0m\u001b[0m\n\u001b[1;32m      6\u001b[0m \u001b[0mcsv_filename\u001b[0m \u001b[0;34m=\u001b[0m \u001b[0mos\u001b[0m\u001b[0;34m.\u001b[0m\u001b[0mpath\u001b[0m\u001b[0;34m.\u001b[0m\u001b[0mjoin\u001b[0m\u001b[0;34m(\u001b[0m\u001b[0mself\u001b[0m\u001b[0;34m.\u001b[0m\u001b[0moutput_path\u001b[0m\u001b[0;34m,\u001b[0m \u001b[0mfile_name\u001b[0m\u001b[0;34m)\u001b[0m\u001b[0;34m\u001b[0m\u001b[0m\n",
      "\u001b[0;31mNameError\u001b[0m: name 'self' is not defined"
     ]
    }
   ],
   "source": [
    "\n",
    "\n",
    "assert isinstance(features_df, pd.core.frame.DataFrame)==True,\"file_data is not a dataframe\"\n",
    "if not self.header_written:\n",
    "    writeHeader(features_df.columns.values.tolist())\n",
    "csv_filename = os.path.join(self.output_path, file_name)\n",
    "print(f\"Writing CSV file: {csv_filename}\")\n",
    "print(file_data.head(5))\n",
    "#file_data.to_csv(csv_filename, index=False)"
   ]
  },
  {
   "cell_type": "code",
   "execution_count": 57,
   "metadata": {},
   "outputs": [
    {
     "name": "stdout",
     "output_type": "stream",
     "text": [
      "Generating features for XGB\n"
     ]
    }
   ],
   "source": [
    "features_df2 = prep_data.generateFeatures(\n",
    "            las_file2, file_info2, feature_curves, target_curves, True)"
   ]
  },
  {
   "cell_type": "code",
   "execution_count": 59,
   "metadata": {},
   "outputs": [
    {
     "data": {
      "text/html": [
       "<div>\n",
       "<style scoped>\n",
       "    .dataframe tbody tr th:only-of-type {\n",
       "        vertical-align: middle;\n",
       "    }\n",
       "\n",
       "    .dataframe tbody tr th {\n",
       "        vertical-align: top;\n",
       "    }\n",
       "\n",
       "    .dataframe thead th {\n",
       "        text-align: right;\n",
       "    }\n",
       "</style>\n",
       "<table border=\"1\" class=\"dataframe\">\n",
       "  <thead>\n",
       "    <tr style=\"text-align: right;\">\n",
       "      <th></th>\n",
       "      <th>Depth</th>\n",
       "      <th>Latitude</th>\n",
       "      <th>Longitude</th>\n",
       "      <th>GRCurve</th>\n",
       "      <th>SRESCurve</th>\n",
       "      <th>NeutCurve</th>\n",
       "      <th>DEN</th>\n",
       "      <th>SonicCurve</th>\n",
       "    </tr>\n",
       "  </thead>\n",
       "  <tbody>\n",
       "  </tbody>\n",
       "</table>\n",
       "</div>"
      ],
      "text/plain": [
       "Empty DataFrame\n",
       "Columns: [Depth, Latitude, Longitude, GRCurve, SRESCurve, NeutCurve, DEN, SonicCurve]\n",
       "Index: []"
      ]
     },
     "execution_count": 59,
     "metadata": {},
     "output_type": "execute_result"
    }
   ],
   "source": [
    "features_df2.head()"
   ]
  },
  {
   "cell_type": "code",
   "execution_count": 60,
   "metadata": {},
   "outputs": [
    {
     "data": {
      "text/plain": [
       "0"
      ]
     },
     "execution_count": 60,
     "metadata": {},
     "output_type": "execute_result"
    }
   ],
   "source": [
    "len(features_df2)"
   ]
  },
  {
   "cell_type": "code",
   "execution_count": 71,
   "metadata": {},
   "outputs": [],
   "source": [
    "ad_csv = pd.read_csv('/homedirs/ansuchan/Desktop/LogNet_Repo/Train_CSV_Output/A2DSub_42173314860000_25388206_StandardLAS_V1.csv')"
   ]
  },
  {
   "cell_type": "code",
   "execution_count": 72,
   "metadata": {},
   "outputs": [
    {
     "data": {
      "text/html": [
       "<div>\n",
       "<style scoped>\n",
       "    .dataframe tbody tr th:only-of-type {\n",
       "        vertical-align: middle;\n",
       "    }\n",
       "\n",
       "    .dataframe tbody tr th {\n",
       "        vertical-align: top;\n",
       "    }\n",
       "\n",
       "    .dataframe thead th {\n",
       "        text-align: right;\n",
       "    }\n",
       "</style>\n",
       "<table border=\"1\" class=\"dataframe\">\n",
       "  <thead>\n",
       "    <tr style=\"text-align: right;\">\n",
       "      <th></th>\n",
       "      <th>Depth</th>\n",
       "      <th>Latitude</th>\n",
       "      <th>Longitude</th>\n",
       "      <th>GRCurve</th>\n",
       "      <th>SRESCurve</th>\n",
       "      <th>NeutCurve</th>\n",
       "      <th>SonicCurve</th>\n",
       "    </tr>\n",
       "  </thead>\n",
       "  <tbody>\n",
       "    <tr>\n",
       "      <th>0</th>\n",
       "      <td>3458.0</td>\n",
       "      <td>31.992598</td>\n",
       "      <td>-101.678304</td>\n",
       "      <td>13.5639</td>\n",
       "      <td>1.149876</td>\n",
       "      <td>-3.246761</td>\n",
       "      <td>0.0196</td>\n",
       "    </tr>\n",
       "    <tr>\n",
       "      <th>1</th>\n",
       "      <td>3458.5</td>\n",
       "      <td>31.992598</td>\n",
       "      <td>-101.678304</td>\n",
       "      <td>13.5183</td>\n",
       "      <td>2.018430</td>\n",
       "      <td>-2.966173</td>\n",
       "      <td>0.0219</td>\n",
       "    </tr>\n",
       "    <tr>\n",
       "      <th>2</th>\n",
       "      <td>3459.0</td>\n",
       "      <td>31.992598</td>\n",
       "      <td>-101.678304</td>\n",
       "      <td>13.8117</td>\n",
       "      <td>2.864256</td>\n",
       "      <td>-3.020025</td>\n",
       "      <td>0.0240</td>\n",
       "    </tr>\n",
       "    <tr>\n",
       "      <th>3</th>\n",
       "      <td>3459.5</td>\n",
       "      <td>31.992598</td>\n",
       "      <td>-101.678304</td>\n",
       "      <td>14.5165</td>\n",
       "      <td>3.390069</td>\n",
       "      <td>-3.103317</td>\n",
       "      <td>0.0259</td>\n",
       "    </tr>\n",
       "    <tr>\n",
       "      <th>4</th>\n",
       "      <td>3460.0</td>\n",
       "      <td>31.992598</td>\n",
       "      <td>-101.678304</td>\n",
       "      <td>15.4186</td>\n",
       "      <td>3.747806</td>\n",
       "      <td>-3.165335</td>\n",
       "      <td>0.0257</td>\n",
       "    </tr>\n",
       "  </tbody>\n",
       "</table>\n",
       "</div>"
      ],
      "text/plain": [
       "    Depth   Latitude   Longitude  GRCurve  SRESCurve  NeutCurve  SonicCurve\n",
       "0  3458.0  31.992598 -101.678304  13.5639   1.149876  -3.246761      0.0196\n",
       "1  3458.5  31.992598 -101.678304  13.5183   2.018430  -2.966173      0.0219\n",
       "2  3459.0  31.992598 -101.678304  13.8117   2.864256  -3.020025      0.0240\n",
       "3  3459.5  31.992598 -101.678304  14.5165   3.390069  -3.103317      0.0259\n",
       "4  3460.0  31.992598 -101.678304  15.4186   3.747806  -3.165335      0.0257"
      ]
     },
     "execution_count": 72,
     "metadata": {},
     "output_type": "execute_result"
    }
   ],
   "source": [
    "ad_csv.head(5)"
   ]
  },
  {
   "cell_type": "code",
   "execution_count": null,
   "metadata": {},
   "outputs": [],
   "source": []
  }
 ],
 "metadata": {
  "kernelspec": {
   "display_name": "Python 3",
   "language": "python",
   "name": "python3"
  },
  "language_info": {
   "codemirror_mode": {
    "name": "ipython",
    "version": 3
   },
   "file_extension": ".py",
   "mimetype": "text/x-python",
   "name": "python",
   "nbconvert_exporter": "python",
   "pygments_lexer": "ipython3",
   "version": "3.7.0"
  }
 },
 "nbformat": 4,
 "nbformat_minor": 2
}
